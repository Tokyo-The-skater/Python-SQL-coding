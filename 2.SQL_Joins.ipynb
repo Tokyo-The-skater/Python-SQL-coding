{
 "cells": [
  {
   "attachments": {},
   "cell_type": "markdown",
   "metadata": {},
   "source": [
    "# SQL Joins: TMDb Database"
   ]
  },
  {
   "cell_type": "markdown",
   "metadata": {},
   "source": [
    "## The TMDb Database\n",
    "\n",
    "In this challenge you will be exploring the [The Movie Database](https://www.themoviedb.org/) - an online movie and TV show database, which houses some of the most popular movies and TV shows at your finger tips. The TMDb database supports 39 official languages used in over 180 countries daily and dates all the way back to 2008. \n",
    "\n",
    "\n",
    "<img src=\"https://github.com/Explore-AI/Pictures/blob/master/sql_tmdb.jpg?raw=true\" width=80%/>\n",
    "\n",
    "\n",
    "Below is an Entity Relationship diagram(ERD) of the TMDb database:\n",
    "\n",
    "<img src=\"https://github.com/Explore-AI/Pictures/blob/master/TMDB_ER_diagram.png?raw=true\" width=70%/>\n",
    "\n",
    "As can be seen from the ER diagram, the TMDb database consists of `12 tables` containing information about movies, cast, genre and so much more.  \n",
    "\n",
    "Let's get started!"
   ]
  },
  {
   "attachments": {},
   "cell_type": "markdown",
   "metadata": {},
   "source": [
    "## Loading the database\n",
    "\n",
    "To begin and start making use of SQL queries you need to prepare your SQL environment you can do this by loading in the magic command `%load_ext sql`, next you can go ahead and load in your database. To do this you will need to ensure you have downloaded the `TMDB.sql`sqlite file. Now that you have all the prerequisites you can go ahead and load it into the notebook. "
   ]
  },
  {
   "cell_type": "code",
   "execution_count": 1,
   "metadata": {},
   "outputs": [],
   "source": [
    "%load_ext sql"
   ]
  },
  {
   "cell_type": "code",
   "execution_count": 2,
   "metadata": {},
   "outputs": [],
   "source": [
    "%%sql \n",
    "\n",
    "sqlite:///TMDB.db\n"
   ]
  },
  {
   "cell_type": "markdown",
   "metadata": {},
   "source": [
    "## Questions on SQL Join Statements \n",
    "\n",
    "Use the given cell below each question to execute your SQL queries to find the correct input from the options provided for the multiple choice questions on Athena."
   ]
  },
  {
   "cell_type": "markdown",
   "metadata": {},
   "source": [
    "**Question 1**\n",
    "\n",
    "What is the primary key for the table “movies”?\n",
    "\n",
    "**Options:** \n",
    " - title\n",
    " - movie_key\n",
    " - film_id\n",
    " - movie_id"
   ]
  },
  {
   "cell_type": "markdown",
   "metadata": {},
   "source": [
    "**Solution**"
   ]
  },
  {
   "cell_type": "code",
   "execution_count": 20,
   "metadata": {},
   "outputs": [
    {
     "name": "stdout",
     "output_type": "stream",
     "text": [
      " * sqlite:///TMDB.db\n",
      "Done.\n"
     ]
    },
    {
     "data": {
      "text/html": [
       "<table>\n",
       "    <thead>\n",
       "        <tr>\n",
       "            <th>name</th>\n",
       "        </tr>\n",
       "    </thead>\n",
       "    <tbody>\n",
       "        <tr>\n",
       "            <td>movie_id</td>\n",
       "        </tr>\n",
       "    </tbody>\n",
       "</table>"
      ],
      "text/plain": [
       "[('movie_id',)]"
      ]
     },
     "execution_count": 20,
     "metadata": {},
     "output_type": "execute_result"
    }
   ],
   "source": [
    "%%sql \n",
    "Select name from pragma_table_info('Movies') where pk=1;\n",
    "\n"
   ]
  },
  {
   "cell_type": "markdown",
   "metadata": {},
   "source": [
    "**Question 2**\n",
    "\n",
    "How many foreign keys does the “LanguageMap” table have?\n",
    "\n",
    "**Options:**\n",
    "\n",
    " - 0\n",
    " - 2\n",
    " - 3\n",
    " - 1"
   ]
  },
  {
   "cell_type": "markdown",
   "metadata": {},
   "source": [
    "**Solution**"
   ]
  },
  {
   "cell_type": "code",
   "execution_count": 31,
   "metadata": {},
   "outputs": [
    {
     "name": "stdout",
     "output_type": "stream",
     "text": [
      " * sqlite:///TMDB.db\n",
      "Done.\n"
     ]
    },
    {
     "data": {
      "text/html": [
       "<table>\n",
       "    <thead>\n",
       "        <tr>\n",
       "            <th>Movie_ai</th>\n",
       "        </tr>\n",
       "    </thead>\n",
       "    <tbody>\n",
       "        <tr>\n",
       "            <td>2</td>\n",
       "        </tr>\n",
       "    </tbody>\n",
       "</table>"
      ],
      "text/plain": [
       "[(2,)]"
      ]
     },
     "execution_count": 31,
     "metadata": {},
     "output_type": "execute_result"
    }
   ],
   "source": [
    "%%sql \n",
    "select count (*) as Movie_ai\n",
    "from pragma_foreign_key_list('LanguageMap');\n"
   ]
  },
  {
   "cell_type": "markdown",
   "metadata": {},
   "source": [
    "**Question 3**\n",
    "\n",
    "How many movies in the database were produced by Pixar Animation Studios?\n",
    "\n",
    "**Options:**\n",
    " - 16\n",
    " - 14\n",
    " - 18\n",
    " - 20"
   ]
  },
  {
   "cell_type": "markdown",
   "metadata": {},
   "source": [
    "**Solution**"
   ]
  },
  {
   "cell_type": "code",
   "execution_count": 62,
   "metadata": {},
   "outputs": [
    {
     "name": "stdout",
     "output_type": "stream",
     "text": [
      " * sqlite:///TMDB.db\n",
      "Done.\n"
     ]
    },
    {
     "data": {
      "text/html": [
       "<table>\n",
       "    <thead>\n",
       "        <tr>\n",
       "            <th>Movie_ai</th>\n",
       "        </tr>\n",
       "    </thead>\n",
       "    <tbody>\n",
       "        <tr>\n",
       "            <td>16</td>\n",
       "        </tr>\n",
       "    </tbody>\n",
       "</table>"
      ],
      "text/plain": [
       "[(16,)]"
      ]
     },
     "execution_count": 62,
     "metadata": {},
     "output_type": "execute_result"
    }
   ],
   "source": [
    "%%sql \n",
    "select count (*) as Movie_ai\n",
    "from movies\n",
    "where movie_id in (\n",
    "    Select movie_id\n",
    "    from productioncompanymap \n",
    "    inner join productioncompanies\n",
    "    ON productioncompanymap.production_company_id = productioncompanies.production_company_id\n",
    "    where productioncompanies.production_company_name LIKE 'Pixar Animation Studios');\n"
   ]
  },
  {
   "cell_type": "markdown",
   "metadata": {},
   "source": [
    "**Question 4**\n",
    "\n",
    "What is the most popular action movie that has some German in it? (Hint: The German word for German is Deutsch)\n",
    "\n",
    "**Options:**\n",
    " - The Bourne Identity\n",
    " - Mission: Impossible - Rogue Nation\n",
    " - Captain America: Civil War\n",
    " - Quantum of Solace"
   ]
  },
  {
   "cell_type": "markdown",
   "metadata": {},
   "source": [
    "**Solution**"
   ]
  },
  {
   "cell_type": "code",
   "execution_count": 117,
   "metadata": {},
   "outputs": [
    {
     "name": "stdout",
     "output_type": "stream",
     "text": [
      " * sqlite:///TMDB.db\n",
      "Done.\n"
     ]
    },
    {
     "data": {
      "text/html": [
       "<table>\n",
       "    <thead>\n",
       "        <tr>\n",
       "            <th>title</th>\n",
       "            <th>popularity</th>\n",
       "        </tr>\n",
       "    </thead>\n",
       "    <tbody>\n",
       "        <tr>\n",
       "            <td>Captain America: Civil War</td>\n",
       "            <td>198.372395</td>\n",
       "        </tr>\n",
       "        <tr>\n",
       "            <td>Mission: Impossible - Rogue Nation</td>\n",
       "            <td>114.522237</td>\n",
       "        </tr>\n",
       "        <tr>\n",
       "            <td>The Fifth Element</td>\n",
       "            <td>109.528572</td>\n",
       "        </tr>\n",
       "        <tr>\n",
       "            <td>Quantum of Solace</td>\n",
       "            <td>107.928811</td>\n",
       "        </tr>\n",
       "        <tr>\n",
       "            <td>Spectre</td>\n",
       "            <td>107.376788</td>\n",
       "        </tr>\n",
       "    </tbody>\n",
       "</table>"
      ],
      "text/plain": [
       "[('Captain America: Civil War', 198.372395),\n",
       " ('Mission: Impossible - Rogue Nation', 114.522237),\n",
       " ('The Fifth Element', 109.528572),\n",
       " ('Quantum of Solace', 107.928811),\n",
       " ('Spectre', 107.376788)]"
      ]
     },
     "execution_count": 117,
     "metadata": {},
     "output_type": "execute_result"
    }
   ],
   "source": [
    "\n",
    "\n",
    "%%sql \n",
    "SELECT title, popularity \n",
    "from movies\n",
    "INNNER JOIN genremap using(Movie_id)\n",
    "INNER JOIN genres using(genre_id)\n",
    "INNER JOIN Languagemap using(Movie_id)\n",
    "INNER JOIN Languages using(iso_639_1)\n",
    "WHERE genres.genre_name = 'Action' AND language_name = 'Deutsch'\n",
    "ORDER BY popularity DESC\n",
    "LIMIT 5;"
   ]
  },
  {
   "cell_type": "markdown",
   "metadata": {},
   "source": [
    "**Question 5**\n",
    "\n",
    "In how many movies did Tom Cruise portray the character Ethan Hunt? (Hint: Characters are listed in the Casts table.)\n",
    "\n",
    "**Options:**\n",
    " - 4\n",
    " - 3\n",
    " - 6\n",
    " - 5"
   ]
  },
  {
   "cell_type": "markdown",
   "metadata": {},
   "source": [
    "**Solution**"
   ]
  },
  {
   "cell_type": "code",
   "execution_count": 142,
   "metadata": {},
   "outputs": [
    {
     "name": "stdout",
     "output_type": "stream",
     "text": [
      " * sqlite:///TMDB.db\n",
      "Done.\n"
     ]
    },
    {
     "data": {
      "text/html": [
       "<table>\n",
       "    <thead>\n",
       "        <tr>\n",
       "            <th>Movie_ide</th>\n",
       "        </tr>\n",
       "    </thead>\n",
       "    <tbody>\n",
       "        <tr>\n",
       "            <td>5</td>\n",
       "        </tr>\n",
       "    </tbody>\n",
       "</table>"
      ],
      "text/plain": [
       "[(5,)]"
      ]
     },
     "execution_count": 142,
     "metadata": {},
     "output_type": "execute_result"
    }
   ],
   "source": [
    "%%sql \n",
    "SELECT count(*) as Movie_ide\n",
    "from movies\n",
    "INNER JOIN casts using(movie_id)\n",
    "INNER JOIN actors using(actor_id)\n",
    "WHERE actor_name = 'Tom Cruise' AND characters LIKE '%Ethan Hunt%';  \n",
    "\n",
    "\n",
    "SELECT COUNT(*) AS movie_count\n",
    "FROM movies\n",
    "JOIN casts ON movies.movie_id = casts.movie_id\n",
    "JOIN actors ON casts.actor_id = actors.actor_id\n",
    "WHERE actors.actor_name = 'Tom Cruise' AND characters LIKE '%Ethan Hunt%' ;\n",
    "     \n",
    "\n",
    "\n",
    "\n",
    "\n",
    "\n",
    "\n",
    "\n",
    "    "
   ]
  },
  {
   "cell_type": "markdown",
   "metadata": {},
   "source": [
    "**Question 6**\n",
    "\n",
    "How many times was the actress Cate Blanchett nominated for an Oscar?\n",
    " \n",
    " **Options:**\n",
    " - 7\n",
    " - 4\n",
    " - 5\n",
    " - 2"
   ]
  },
  {
   "cell_type": "markdown",
   "metadata": {},
   "source": [
    "**Solution**"
   ]
  },
  {
   "cell_type": "code",
   "execution_count": 143,
   "metadata": {},
   "outputs": [
    {
     "name": "stdout",
     "output_type": "stream",
     "text": [
      " * sqlite:///TMDB.db\n",
      "Done.\n"
     ]
    },
    {
     "data": {
      "text/html": [
       "<table>\n",
       "    <thead>\n",
       "        <tr>\n",
       "            <th>Oscars</th>\n",
       "        </tr>\n",
       "    </thead>\n",
       "    <tbody>\n",
       "        <tr>\n",
       "            <td>7</td>\n",
       "        </tr>\n",
       "    </tbody>\n",
       "</table>"
      ],
      "text/plain": [
       "[(7,)]"
      ]
     },
     "execution_count": 143,
     "metadata": {},
     "output_type": "execute_result"
    }
   ],
   "source": [
    "%%sql \n",
    "Select count(*) AS Oscars\n",
    "From Oscars\n",
    "Where name = 'Cate Blanchett';\n"
   ]
  },
  {
   "cell_type": "markdown",
   "metadata": {},
   "source": [
    "**Question 7**\n",
    "\n",
    "How many movies were nominated for the Best Picture award at the Oscars?\n",
    " \n",
    "**Options:**\n",
    "\n",
    " - 12\n",
    " - 16\n",
    " - 8\n",
    " - 18"
   ]
  },
  {
   "cell_type": "markdown",
   "metadata": {},
   "source": [
    "**Solution**"
   ]
  },
  {
   "cell_type": "code",
   "execution_count": 298,
   "metadata": {},
   "outputs": [
    {
     "name": "stdout",
     "output_type": "stream",
     "text": [
      " * sqlite:///TMDB.db\n",
      "Done.\n"
     ]
    },
    {
     "data": {
      "text/html": [
       "<table>\n",
       "    <thead>\n",
       "        <tr>\n",
       "            <th>Movie_Count</th>\n",
       "        </tr>\n",
       "    </thead>\n",
       "    <tbody>\n",
       "        <tr>\n",
       "            <td>0</td>\n",
       "        </tr>\n",
       "    </tbody>\n",
       "</table>"
      ],
      "text/plain": [
       "[(0,)]"
      ]
     },
     "execution_count": 298,
     "metadata": {},
     "output_type": "execute_result"
    }
   ],
   "source": [
    "%%sql \n",
    "SELECT COUNT(DISTINCT winner) AS Movie_Count\n",
    "FROM OSCARS\n",
    "WHERE name = \"Best Picture\";\n",
    "\n",
    "\n",
    "\n"
   ]
  },
  {
   "cell_type": "markdown",
   "metadata": {},
   "source": [
    "**Question 8** \n",
    "\n",
    "How many movies contain at least one of the languages, Afrikaans or Zulu?\n",
    "\n",
    "**Options:**\n",
    " - 10\n",
    " - 8\n",
    " - 12\n",
    " - 15"
   ]
  },
  {
   "cell_type": "markdown",
   "metadata": {},
   "source": [
    "**Solution**"
   ]
  },
  {
   "cell_type": "code",
   "execution_count": 206,
   "metadata": {},
   "outputs": [
    {
     "name": "stdout",
     "output_type": "stream",
     "text": [
      " * sqlite:///TMDB.db\n",
      "Done.\n"
     ]
    },
    {
     "data": {
      "text/html": [
       "<table>\n",
       "    <thead>\n",
       "        <tr>\n",
       "            <th>movie_ide</th>\n",
       "        </tr>\n",
       "    </thead>\n",
       "    <tbody>\n",
       "        <tr>\n",
       "            <td>8</td>\n",
       "        </tr>\n",
       "    </tbody>\n",
       "</table>"
      ],
      "text/plain": [
       "[(8,)]"
      ]
     },
     "execution_count": 206,
     "metadata": {},
     "output_type": "execute_result"
    }
   ],
   "source": [
    "%%sql \n",
    "Select count(DISTINCT movie_id ) as movie_ide\n",
    "from movies\n",
    "Inner join languagemap using(Movie_id)\n",
    "Inner join languages using(iso_639_1)\n",
    "where language_name LIKE '%Zulu%' or language_name LIKE '%Afrikaans%';\n",
    "\n"
   ]
  },
  {
   "cell_type": "markdown",
   "metadata": {},
   "source": [
    "**Question 9**\n",
    "\n",
    "In which country was the movie “Star Wars” produced?  \n",
    "\n",
    "**Options:**\n",
    " - Canada\n",
    " - United Kingdom\n",
    " - France\n",
    " - United States of America"
   ]
  },
  {
   "cell_type": "markdown",
   "metadata": {},
   "source": [
    "**Solution**"
   ]
  },
  {
   "cell_type": "code",
   "execution_count": 236,
   "metadata": {},
   "outputs": [
    {
     "name": "stdout",
     "output_type": "stream",
     "text": [
      " * sqlite:///TMDB.db\n",
      "Done.\n"
     ]
    },
    {
     "data": {
      "text/html": [
       "<table>\n",
       "    <thead>\n",
       "        <tr>\n",
       "            <th>Movie_id</th>\n",
       "        </tr>\n",
       "    </thead>\n",
       "    <tbody>\n",
       "        <tr>\n",
       "            <td>United States of America</td>\n",
       "        </tr>\n",
       "    </tbody>\n",
       "</table>"
      ],
      "text/plain": [
       "[('United States of America',)]"
      ]
     },
     "execution_count": 236,
     "metadata": {},
     "output_type": "execute_result"
    }
   ],
   "source": [
    "%%sql \n",
    "select production_country_name as Movie_id\n",
    "from movies\n",
    "join productioncountrymap using(movie_id)\n",
    "join productioncountries using(iso_3166_1)\n",
    "where title = \"Star Wars\" ;"
   ]
  },
  {
   "cell_type": "markdown",
   "metadata": {},
   "source": [
    "**Question 10**\n",
    "\n",
    "How many movies are in the database that are both a Romance and a Comedy?\n",
    "\n",
    "**Options:**\n",
    "\n",
    " - 373\n",
    " - 484\n",
    " - 262\n",
    " - 595"
   ]
  },
  {
   "cell_type": "markdown",
   "metadata": {},
   "source": [
    "**Solution**"
   ]
  },
  {
   "cell_type": "code",
   "execution_count": 273,
   "metadata": {},
   "outputs": [
    {
     "name": "stdout",
     "output_type": "stream",
     "text": [
      " * sqlite:///TMDB.db\n",
      "Done.\n"
     ]
    },
    {
     "data": {
      "text/html": [
       "<table>\n",
       "    <thead>\n",
       "        <tr>\n",
       "            <th>Movie_Things</th>\n",
       "        </tr>\n",
       "    </thead>\n",
       "    <tbody>\n",
       "        <tr>\n",
       "            <td>0</td>\n",
       "        </tr>\n",
       "    </tbody>\n",
       "</table>"
      ],
      "text/plain": [
       "[(0,)]"
      ]
     },
     "execution_count": 273,
     "metadata": {},
     "output_type": "execute_result"
    }
   ],
   "source": [
    "%%sql \n",
    "\n",
    "\n",
    "SELECT count(DISTINCT genre_id) AS Movie_Things \n",
    "FROM movies \n",
    "JOIN genremap USING (movie_id) \n",
    "JOIN genres USING (genre_id) \n",
    "WHERE genre_name LIKE '%Comedy%' and genre_name LIKE '%Romance%';\n",
    "\n"
   ]
  }
 ],
 "metadata": {
  "kernelspec": {
   "display_name": "Python 3",
   "language": "python",
   "name": "python3"
  },
  "language_info": {
   "codemirror_mode": {
    "name": "ipython",
    "version": 3
   },
   "file_extension": ".py",
   "mimetype": "text/x-python",
   "name": "python",
   "nbconvert_exporter": "python",
   "pygments_lexer": "ipython3",
   "version": "3.10.8"
  }
 },
 "nbformat": 4,
 "nbformat_minor": 2
}
