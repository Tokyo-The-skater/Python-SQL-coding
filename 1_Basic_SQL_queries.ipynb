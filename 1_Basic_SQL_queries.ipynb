{
 "cells": [
  {
   "attachments": {},
   "cell_type": "markdown",
   "metadata": {},
   "source": [
    "# Basic SQL Queries: TMDb Database\n"
   ]
  },
  {
   "cell_type": "markdown",
   "metadata": {},
   "source": [
    "## The TMDb Database\n",
    "\n",
    "In this challenge you will be exploring the [The Movie Database](https://www.themoviedb.org/): an online movie and TV show database, which houses some of the most popular movies and TV shows at your finger tips. The TMDb database supports 39 official languages used in over 180 countries daily and dates all the way back to 2008. \n",
    "\n",
    "\n",
    "<img src=\"https://github.com/Explore-AI/Pictures/blob/master/sql_tmdb.jpg?raw=true\" width=80%/>\n",
    "\n",
    "\n",
    "Below is an Entity Relationship Diagram (ERD) of the TMDb database:\n",
    "\n",
    "<img src=\"https://github.com/Explore-AI/Pictures/blob/master/TMDB_ER_diagram.png?raw=true\" width=70%/>\n",
    "\n",
    "As can be seen from the ER diagram, the TMDb database consists of `12 tables` containing information about movies, cast, genre and so much more.  \n",
    "\n",
    "For this challenge we will only be making use of the Movies table from the TMDb database. We will be applying the use of basic SQL queries to gain insightful information from the Movies table. The Movie table consists of: \n",
    "- 15 columns\n",
    "- 4804 rows\n",
    "- Includes information on movie revenue, release date, popularity and so much more ! \n",
    "\n",
    "Let's get started!"
   ]
  },
  {
   "attachments": {},
   "cell_type": "markdown",
   "metadata": {},
   "source": [
    "## Loading the database\n",
    "\n",
    "To begin and start making use of SQL queries you need to prepare your SQL environment you can do this by loading in the magic command `%load_ext sql`, next you can go ahead and load in your database. To do this you will need to ensure you have downloaded the `TMDB.sql`sqlite file. Now that you have all the prerequistes you can go ahead and load it into the notebook. "
   ]
  },
  {
   "cell_type": "code",
   "execution_count": 1,
   "metadata": {},
   "outputs": [],
   "source": [
    "%load_ext sql"
   ]
  },
  {
   "cell_type": "code",
   "execution_count": 2,
   "metadata": {},
   "outputs": [],
   "source": [
    "%%sql \n",
    "sqlite:///TMDB.db\n"
   ]
  },
  {
   "cell_type": "markdown",
   "metadata": {},
   "source": [
    "## Questions on Basic SQL Queries \n",
    "\n",
    "Use the given cell below each question to execute your SQL queries to find the correct input from the options provided for the multiple choice questions on Athena.\n",
    "\n",
    "To attempt this you will use what you have learned about the following functions and statements:\n",
    "\n",
    "- SELECT\n",
    "- FROM\n",
    "- WHERE\n",
    "- LIKE\n",
    "- COUNT\n",
    "- OR\n",
    "- AND\n",
    "- BETWEEN"
   ]
  },
  {
   "cell_type": "markdown",
   "metadata": {},
   "source": [
    "**Question 1**\n",
    "\n",
    "What is the SQL code to see the whole movies table?\n",
    "\n",
    "**Options:** \n",
    "- SELECT ALL FROM Movies\n",
    "- SELECT TABLE FROM Movies\n",
    "- SELECT * FROM Movies\n",
    "- SELECT % FROM Movies"
   ]
  },
  {
   "cell_type": "code",
   "execution_count": null,
   "metadata": {},
   "outputs": [],
   "source": [
    "%%sql \n",
    "SELECT * from movies"
   ]
  },
  {
   "cell_type": "markdown",
   "metadata": {},
   "source": [
    "**Question 2**\n",
    "\n",
    "What was the budget for the movie “Inception”?\n",
    "\n",
    "**Options:**\n",
    "- $224 000 000\n",
    "\n",
    "- $160 000 000\n",
    "\n",
    "- $344 000 000\n",
    "\n",
    "- $115 000 000\n"
   ]
  },
  {
   "cell_type": "code",
   "execution_count": 60,
   "metadata": {},
   "outputs": [
    {
     "name": "stdout",
     "output_type": "stream",
     "text": [
      " * sqlite:///TMDB.db\n",
      "Done.\n"
     ]
    },
    {
     "data": {
      "text/html": [
       "<table>\n",
       "    <thead>\n",
       "        <tr>\n",
       "            <th>budget</th>\n",
       "        </tr>\n",
       "    </thead>\n",
       "    <tbody>\n",
       "        <tr>\n",
       "            <td>160000000</td>\n",
       "        </tr>\n",
       "    </tbody>\n",
       "</table>"
      ],
      "text/plain": [
       "[(160000000,)]"
      ]
     },
     "execution_count": 60,
     "metadata": {},
     "output_type": "execute_result"
    }
   ],
   "source": [
    "%%sql \n",
    "SELECT budget FROM movies \n",
    "WHERE title = \"Inception\";\n"
   ]
  },
  {
   "cell_type": "markdown",
   "metadata": {},
   "source": [
    "**Question 3**\n",
    "\n",
    "What is the runtime of the movie \"Titanic\"?\n",
    "\n",
    "**Options:**\n",
    "- 146\n",
    "- 158\n",
    "- 122\n",
    "- 194"
   ]
  },
  {
   "cell_type": "code",
   "execution_count": 61,
   "metadata": {},
   "outputs": [
    {
     "name": "stdout",
     "output_type": "stream",
     "text": [
      " * sqlite:///TMDB.db\n",
      "Done.\n"
     ]
    },
    {
     "data": {
      "text/html": [
       "<table>\n",
       "    <thead>\n",
       "        <tr>\n",
       "            <th>runtime</th>\n",
       "        </tr>\n",
       "    </thead>\n",
       "    <tbody>\n",
       "        <tr>\n",
       "            <td>194.0</td>\n",
       "        </tr>\n",
       "    </tbody>\n",
       "</table>"
      ],
      "text/plain": [
       "[(194.0,)]"
      ]
     },
     "execution_count": 61,
     "metadata": {},
     "output_type": "execute_result"
    }
   ],
   "source": [
    "%%sql \n",
    "SELECT runtime from movies\n",
    "Where title = \"Titanic\""
   ]
  },
  {
   "cell_type": "markdown",
   "metadata": {},
   "source": [
    "**Question 4**\n",
    "\n",
    "How many movies do not have English as their original language? (Hint: “en” is the abbreviation for English)\n",
    "\n",
    "**Options:**\n",
    "- 492\n",
    "- 298\n",
    "- 387\n",
    "- 315"
   ]
  },
  {
   "cell_type": "code",
   "execution_count": 63,
   "metadata": {},
   "outputs": [
    {
     "name": "stdout",
     "output_type": "stream",
     "text": [
      " * sqlite:///TMDB.db\n",
      "Done.\n"
     ]
    },
    {
     "data": {
      "text/html": [
       "<table>\n",
       "    <thead>\n",
       "        <tr>\n",
       "            <th>movie_count</th>\n",
       "        </tr>\n",
       "    </thead>\n",
       "    <tbody>\n",
       "        <tr>\n",
       "            <td>298</td>\n",
       "        </tr>\n",
       "    </tbody>\n",
       "</table>"
      ],
      "text/plain": [
       "[(298,)]"
      ]
     },
     "execution_count": 63,
     "metadata": {},
     "output_type": "execute_result"
    }
   ],
   "source": [
    "%%sql \n",
    "Select count(*) as movie_count\n",
    "from movies\n",
    "Where original_language != 'en';"
   ]
  },
  {
   "cell_type": "markdown",
   "metadata": {},
   "source": [
    "**Question 5**\n",
    "\n",
    "How many movies are there that have a popularity score of more than 250?\n",
    "\n",
    "**Options:**\n",
    "- 7\n",
    "- 5\n",
    "- 9\n",
    "- 11"
   ]
  },
  {
   "cell_type": "code",
   "execution_count": 64,
   "metadata": {},
   "outputs": [
    {
     "name": "stdout",
     "output_type": "stream",
     "text": [
      " * sqlite:///TMDB.db\n",
      "Done.\n"
     ]
    },
    {
     "data": {
      "text/html": [
       "<table>\n",
       "    <thead>\n",
       "        <tr>\n",
       "            <th>movie_count</th>\n",
       "        </tr>\n",
       "    </thead>\n",
       "    <tbody>\n",
       "        <tr>\n",
       "            <td>7</td>\n",
       "        </tr>\n",
       "    </tbody>\n",
       "</table>"
      ],
      "text/plain": [
       "[(7,)]"
      ]
     },
     "execution_count": 64,
     "metadata": {},
     "output_type": "execute_result"
    }
   ],
   "source": [
    "%%sql \n",
    "select count(*) as movie_count\n",
    "from movies \n",
    "where popularity > 250"
   ]
  },
  {
   "cell_type": "markdown",
   "metadata": {},
   "source": [
    "**Question 6**\n",
    "\n",
    " How many movies are there where the title is not the same as the original title?\n",
    " \n",
    " **Options:**\n",
    " -  187\n",
    " - 261\n",
    " - 74\n",
    " - 24"
   ]
  },
  {
   "cell_type": "code",
   "execution_count": 65,
   "metadata": {},
   "outputs": [
    {
     "name": "stdout",
     "output_type": "stream",
     "text": [
      " * sqlite:///TMDB.db\n",
      "Done.\n"
     ]
    },
    {
     "data": {
      "text/html": [
       "<table>\n",
       "    <thead>\n",
       "        <tr>\n",
       "            <th>movie_count</th>\n",
       "        </tr>\n",
       "    </thead>\n",
       "    <tbody>\n",
       "        <tr>\n",
       "            <td>261</td>\n",
       "        </tr>\n",
       "    </tbody>\n",
       "</table>"
      ],
      "text/plain": [
       "[(261,)]"
      ]
     },
     "execution_count": 65,
     "metadata": {},
     "output_type": "execute_result"
    }
   ],
   "source": [
    "%%sql\n",
    "select count(*) as movie_count\n",
    "from movies\n",
    "where title != original_title"
   ]
  },
  {
   "cell_type": "markdown",
   "metadata": {},
   "source": [
    "**Question 7**\n",
    "\n",
    " How many movies are there that managed to get a popularity rating of more than 100 with a budget of less than $10 000 000?\n",
    " \n",
    "**Options:**\n",
    " - 11\n",
    " - 18\n",
    " - 5\n",
    " - 15"
   ]
  },
  {
   "cell_type": "code",
   "execution_count": 30,
   "metadata": {},
   "outputs": [
    {
     "name": "stdout",
     "output_type": "stream",
     "text": [
      " * sqlite:///TMDB.db\n",
      "Done.\n"
     ]
    },
    {
     "data": {
      "text/html": [
       "<table>\n",
       "    <thead>\n",
       "        <tr>\n",
       "            <th>movie_count</th>\n",
       "        </tr>\n",
       "    </thead>\n",
       "    <tbody>\n",
       "        <tr>\n",
       "            <td>5</td>\n",
       "        </tr>\n",
       "    </tbody>\n",
       "</table>"
      ],
      "text/plain": [
       "[(5,)]"
      ]
     },
     "execution_count": 30,
     "metadata": {},
     "output_type": "execute_result"
    }
   ],
   "source": [
    "%%sql \n",
    "Select count (*) as movie_count\n",
    "from movies\n",
    "where popularity >= 100 AND budget <= 10000000;"
   ]
  },
  {
   "cell_type": "markdown",
   "metadata": {},
   "source": [
    "**Question 8** \n",
    "\n",
    "How many movies are there that have the word ‘love’ anywhere in the title? (Hint: The L in the word love can be upper or lower case and can be included in words such as ‘lovers’.)\n",
    "\n",
    "**Options:**\n",
    "- 67\n",
    "- 58\n",
    "- 71\n",
    "- 49"
   ]
  },
  {
   "cell_type": "code",
   "execution_count": 68,
   "metadata": {},
   "outputs": [
    {
     "name": "stdout",
     "output_type": "stream",
     "text": [
      " * sqlite:///TMDB.db\n",
      "Done.\n"
     ]
    },
    {
     "data": {
      "text/html": [
       "<table>\n",
       "    <thead>\n",
       "        <tr>\n",
       "            <th>movie_count</th>\n",
       "        </tr>\n",
       "    </thead>\n",
       "    <tbody>\n",
       "        <tr>\n",
       "            <td>71</td>\n",
       "        </tr>\n",
       "    </tbody>\n",
       "</table>"
      ],
      "text/plain": [
       "[(71,)]"
      ]
     },
     "execution_count": 68,
     "metadata": {},
     "output_type": "execute_result"
    }
   ],
   "source": [
    "%%sql \n",
    "Select count (*) as movie_count\n",
    "from movies\n",
    "where title LIKE '%Love%';"
   ]
  },
  {
   "cell_type": "markdown",
   "metadata": {},
   "source": [
    "**Question 9**\n",
    "\n",
    "How many movies were released between the dates 1 August 2012 and 31 July 2013?  \n",
    "\n",
    "**Options:**\n",
    "- 227 \n",
    "- 295\n",
    "- 3\n",
    "- 208"
   ]
  },
  {
   "cell_type": "code",
   "execution_count": 62,
   "metadata": {},
   "outputs": [
    {
     "name": "stdout",
     "output_type": "stream",
     "text": [
      " * sqlite:///TMDB.db\n",
      "Done.\n"
     ]
    },
    {
     "data": {
      "text/html": [
       "<table>\n",
       "    <thead>\n",
       "        <tr>\n",
       "            <th>movie_count</th>\n",
       "        </tr>\n",
       "    </thead>\n",
       "    <tbody>\n",
       "        <tr>\n",
       "            <td>227</td>\n",
       "        </tr>\n",
       "    </tbody>\n",
       "</table>"
      ],
      "text/plain": [
       "[(227,)]"
      ]
     },
     "execution_count": 62,
     "metadata": {},
     "output_type": "execute_result"
    }
   ],
   "source": [
    "%%sql \n",
    "Select count (*) as movie_count\n",
    "from movies\n",
    "WHERE release_date BETWEEN '2012-08-01' AND '2013-07-31' ;"
   ]
  },
  {
   "cell_type": "markdown",
   "metadata": {},
   "source": [
    "**Question 10**\n",
    "\n",
    "You have had a long day and want to sit back and enjoy a movie.  Unfortunately, today you are only in the mood for a very specific type of movie. It definitely needs to be in English. It should also be new, something after 1 Jan 2010, but not too new as you might have seen it recently, so it must have been released before 1 Jan 2016. It should also be a romantic movie, so make sure it has the word love somewhere in the title.  You also want it to be a big blockbuster, so the budget of the move must be more than $10 000 000.\n",
    "\n",
    "What is the movie with the highest popularity that meets all of your requirements?\n",
    "\n",
    "**Options:**\n",
    "-  Love & Other Drugs\n",
    "- From Paris with Love\n",
    "-  Crazy, Stupid, Love\n",
    "- Eat Pray Love"
   ]
  },
  {
   "cell_type": "code",
   "execution_count": 69,
   "metadata": {},
   "outputs": [
    {
     "name": "stdout",
     "output_type": "stream",
     "text": [
      " * sqlite:///TMDB.db\n",
      "Done.\n"
     ]
    },
    {
     "data": {
      "text/html": [
       "<table>\n",
       "    <thead>\n",
       "        <tr>\n",
       "            <th>title</th>\n",
       "            <th>movie_count</th>\n",
       "        </tr>\n",
       "    </thead>\n",
       "    <tbody>\n",
       "        <tr>\n",
       "            <td>Crazy, Stupid, Love.</td>\n",
       "            <td>37.990705</td>\n",
       "        </tr>\n",
       "    </tbody>\n",
       "</table>"
      ],
      "text/plain": [
       "[('Crazy, Stupid, Love.', 37.990705)]"
      ]
     },
     "execution_count": 69,
     "metadata": {},
     "output_type": "execute_result"
    }
   ],
   "source": [
    "%%sql\n",
    "Select title, popularity as movie_count\n",
    "from movies\n",
    "Where original_language = 'en'\n",
    "      AND title LIKE '%love%'\n",
    "      AND release_date BETWEEN '2010-01-01' AND '2016-01-01' \n",
    "      AND budget >= 1000000\n",
    "order by popularity DESC\n",
    "LIMIT 1;\n"
   ]
  }
 ],
 "metadata": {
  "kernelspec": {
   "display_name": "Python 3",
   "language": "python",
   "name": "python3"
  },
  "language_info": {
   "codemirror_mode": {
    "name": "ipython",
    "version": 3
   },
   "file_extension": ".py",
   "mimetype": "text/x-python",
   "name": "python",
   "nbconvert_exporter": "python",
   "pygments_lexer": "ipython3",
   "version": "3.10.9"
  }
 },
 "nbformat": 4,
 "nbformat_minor": 2
}
